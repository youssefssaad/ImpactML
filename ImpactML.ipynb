{
 "cells": [
  {
   "cell_type": "markdown",
   "metadata": {},
   "source": [
    "📦 **Imports and Data Load**\n"
   ]
  },
  {
   "cell_type": "code",
   "execution_count": null,
   "metadata": {},
   "outputs": [],
   "source": [
    "import pandas as pd\n",
    "from itertools import product\n",
    "from sklearn.preprocessing import LabelEncoder\n",
    "\n",
    "# Set display options for pandas\n",
    "pd.set_option(\"display.max_columns\", None)\n",
    "\n",
    "# Load data\n",
    "df = pd.read_csv(\"DTM/DTM.csv\")"
   ]
  },
  {
   "cell_type": "markdown",
   "metadata": {},
   "source": [
    "🧹 **Initial Cleaning**\n"
   ]
  },
  {
   "cell_type": "code",
   "execution_count": null,
   "metadata": {},
   "outputs": [],
   "source": [
    "# Drop columns with too many missing values\n",
    "df = df.dropna(axis=1, thresh=800)\n",
    "\n",
    "# Drop unnecessary columns\n",
    "df = df.drop(columns=['Created', 'Year'])\n",
    "\n",
    "# Drop rows where 'Vendor' column is missing\n",
    "df = df.dropna(subset=['Vendor'])\n",
    "\n",
    "# Standardize 'Shortage Date' column to datetime\n",
    "df['Shortage Date'] = pd.to_datetime(df['Shortage Date'])\n",
    "\n",
    "# Fill missing values\n",
    "df[['Downtime', 'Missed Vehicle']] = df[['Downtime', 'Missed Vehicle']].fillna(0)\n",
    "df[['LiMa Comment', 'Code 1']] = df[['LiMa Comment', 'Code 1']].fillna('No Data')"
   ]
  },
  {
   "cell_type": "markdown",
   "metadata": {},
   "source": [
    "📆 **Add Calendar Features**"
   ]
  },
  {
   "cell_type": "code",
   "execution_count": null,
   "metadata": {},
   "outputs": [],
   "source": [
    "# Extract calendar-based features\n",
    "df['DayOfWeek'] = df['Shortage Date'].dt.dayofweek\n",
    "df['IsWeekend'] = df['DayOfWeek'].isin([5, 6]).astype(int)\n",
    "df['Month'] = df['Shortage Date'].dt.month\n",
    "df['Quarter'] = df['Shortage Date'].dt.quarter"
   ]
  },
  {
   "cell_type": "markdown",
   "metadata": {},
   "source": [
    "📊 **Aggregate Daily Data per Vendor**"
   ]
  },
  {
   "cell_type": "code",
   "execution_count": null,
   "metadata": {},
   "outputs": [],
   "source": [
    "# Aggregate Downtime + Misses (daily level per vendor)\n",
    "daily_agg = df.groupby(['Vendor', 'Shortage Date']).agg({\n",
    "    'Downtime': 'sum',\n",
    "    'Missed Vehicle': 'sum'\n",
    "}).reset_index()\n",
    "\n",
    "# Fill in all Vendor-Date combinations (to fill missing days with 0)\n",
    "all_vendors = daily_agg['Vendor'].unique()\n",
    "full_dates = pd.date_range(daily_agg['Shortage Date'].min(), daily_agg['Shortage Date'].max(), freq='D')\n",
    "full_index = pd.DataFrame(product(all_vendors, full_dates), columns=['Vendor', 'Shortage Date'])\n",
    "\n",
    "df = full_index.merge(daily_agg, how='left', on=['Vendor', 'Shortage Date'])\n",
    "df[['Downtime', 'Missed Vehicle']] = df[['Downtime', 'Missed Vehicle']].fillna(0)"
   ]
  },
  {
   "cell_type": "markdown",
   "metadata": {},
   "source": [
    "🔁 **Add Lag Features & Rolling Averages**"
   ]
  },
  {
   "cell_type": "code",
   "execution_count": null,
   "metadata": {},
   "outputs": [],
   "source": [
    "df = df.sort_values(['Vendor', 'Shortage Date']).reset_index(drop=True)\n",
    "\n",
    "lags = [1, 2, 3, 7]\n",
    "for lag in lags:\n",
    "    df[f'Lag_Downtime_{lag}'] = df.groupby('Vendor')['Downtime'].shift(lag)\n",
    "    df[f'Lag_Misses_{lag}'] = df.groupby('Vendor')['Missed Vehicle'].shift(lag)\n",
    "\n",
    "# Fill NaN lag values with 0\n",
    "lag_cols = [f'Lag_Downtime_{l}' for l in lags] + [f'Lag_Misses_{l}' for l in lags]\n",
    "df[lag_cols] = df[lag_cols].fillna(0)"
   ]
  },
  {
   "cell_type": "markdown",
   "metadata": {},
   "source": [
    "📆 **Re-Add Calendar Features to Daily Data**"
   ]
  },
  {
   "cell_type": "code",
   "execution_count": null,
   "metadata": {},
   "outputs": [],
   "source": [
    "# Re-add calendar-based features\n",
    "df['DayOfWeek'] = df['Shortage Date'].dt.dayofweek\n",
    "df['IsWeekend'] = df['DayOfWeek'].isin([5, 6]).astype(int)\n",
    "df['Month'] = df['Shortage Date'].dt.month\n",
    "df['Quarter'] = df['Shortage Date'].dt.quarter"
   ]
  },
  {
   "cell_type": "markdown",
   "metadata": {},
   "source": [
    "**⚠️Frequency + Severity Ratings**"
   ]
  },
  {
   "cell_type": "code",
   "execution_count": null,
   "metadata": {},
   "outputs": [],
   "source": [
    "# Compute per vendor summary\n",
    "risk_df = df.groupby('Vendor').agg(\n",
    "    Total_Incidents=('Downtime', lambda x: (x > 0).sum()),\n",
    "    Total_Downtime=('Downtime', 'sum')\n",
    ").reset_index()\n",
    "\n",
    "# Normalize to 0-1 scale\n",
    "risk_df['Freq_Score'] = risk_df['Total_Incidents'] / risk_df['Total_Incidents'].max()\n",
    "risk_df['Severity_Score'] = risk_df['Total_Downtime'] / risk_df['Total_Downtime'].max()\n",
    "risk_df['Risk_Score'] = 0.5 * risk_df['Freq_Score'] + 0.5 * risk_df['Severity_Score']\n",
    "\n",
    "# Merge risk score to main df\n",
    "df = df.merge(risk_df[['Vendor', 'Risk_Score']], on='Vendor', how='left')\n",
    "\n",
    "df['YearMonth'] = df['Shortage Date'].dt.year * 100 + df['Shortage Date'].dt.month\n",
    "df['YearWeek'] = df['Shortage Date'].dt.strftime('%Y-W%U')"
   ]
  },
  {
   "cell_type": "markdown",
   "metadata": {},
   "source": [
    "** 📈Rolling Averages**"
   ]
  },
  {
   "cell_type": "code",
   "execution_count": null,
   "metadata": {},
   "outputs": [],
   "source": [
    "df_weekly = df.groupby(['Vendor', 'YearWeek']).agg(\n",
    "    Weekly_Downtime=('Downtime', 'sum')\n",
    ").reset_index()\n",
    "\n",
    "# Sort for rolling calc\n",
    "df_weekly = df_weekly.sort_values(['Vendor', 'YearWeek'])\n",
    "\n",
    "# Rolling 12-week avg (shifted)\n",
    "df_weekly['Avg_Downtime_12w'] = df_weekly.groupby('Vendor')['Weekly_Downtime'].transform(\n",
    "    lambda x: x.shift(1).rolling(window=12, min_periods=1).mean()\n",
    ")\n",
    "\n",
    "# Merge rolling avg to daily df\n",
    "df = df.merge(df_weekly[['Vendor', 'YearWeek', 'Avg_Downtime_12w']],\n",
    "              on=['Vendor', 'YearWeek'], how='left')\n",
    "df['Avg_Downtime_12w'] = df['Avg_Downtime_12w'].fillna(0)\n",
    "\n",
    "label_encoder = LabelEncoder()\n",
    "df['Vendor_Encoded'] = label_encoder.fit_transform(df['Vendor'])\n",
    "\n",
    "iso = df['Shortage Date'].dt.isocalendar()\n",
    "df['YearWeek_Num'] = iso['year'] * 100 + iso['week']\n",
    "\n",
    "df = df.sort_values(['Vendor', 'Shortage Date']).reset_index(drop=True)\n",
    "df.info()"
   ]
  },
  {
   "cell_type": "code",
   "execution_count": null,
   "metadata": {},
   "outputs": [],
   "source": [
    "df.info()"
   ]
  },
  {
   "cell_type": "markdown",
   "metadata": {},
   "source": [
    "**Model Time Baby...**"
   ]
  },
  {
   "cell_type": "code",
   "execution_count": null,
   "metadata": {},
   "outputs": [],
   "source": [
    "# Data handling\n",
    "import numpy as np\n",
    "import pandas as pd\n",
    "\n",
    "# Data splitting and preprocessing\n",
    "from sklearn.model_selection import train_test_split, GridSearchCV\n",
    "from sklearn.preprocessing import StandardScaler\n",
    "\n",
    "# Models\n",
    "from sklearn.ensemble import RandomForestRegressor, VotingRegressor\n",
    "from sklearn.linear_model import LinearRegression\n",
    "from xgboost import XGBRegressor\n",
    "\n",
    "# Metrics\n",
    "from sklearn.metrics import mean_squared_error, r2_score\n",
    "\n",
    "# Plotting (optional for EDA or results viz)\n",
    "import matplotlib.pyplot as plt\n",
    "import seaborn as sns\n",
    "\n",
    "# For encoding categorical variables (optional if needed)\n",
    "from sklearn.compose import ColumnTransformer\n",
    "from sklearn.preprocessing import OneHotEncoder\n",
    "\n",
    "# Parallel backend for faster GridSearchCV with feedback (optional but recommended)\n",
    "from sklearn.utils import parallel_backend\n",
    "\n",
    "# Suppress warnings\n",
    "import warnings\n",
    "warnings.filterwarnings('ignore')\n"
   ]
  },
  {
   "cell_type": "markdown",
   "metadata": {},
   "source": [
    "**Initial Data Split**"
   ]
  },
  {
   "cell_type": "code",
   "execution_count": null,
   "metadata": {},
   "outputs": [],
   "source": [
    "df = df.drop(columns=['Vendor', 'YearWeek'])\n",
    "\n",
    "# Split data into features and target\n",
    "X = df.drop(columns=['Downtime', 'Missed Vehicle'])  # Assuming Downtime and Missed Vehicle are your target columns\n",
    "y = df[['Downtime', 'Missed Vehicle']]  # You might want to predict both, or choose one\n",
    "\n",
    "# Train-Test split\n",
    "X_train, X_test, y_train, y_test = train_test_split(X, y, test_size=0.2, random_state=42)"
   ]
  },
  {
   "cell_type": "markdown",
   "metadata": {},
   "source": [
    "**📊Models Training and GridSearchCV**"
   ]
  },
  {
   "cell_type": "code",
   "execution_count": null,
   "metadata": {},
   "outputs": [],
   "source": [
    "df.info()"
   ]
  },
  {
   "cell_type": "code",
   "execution_count": null,
   "metadata": {},
   "outputs": [],
   "source": [
    "# Define models and parameter grids\n",
    "models_params = {\n",
    "    'RandomForest': {\n",
    "        'model': RandomForestRegressor(random_state=42),\n",
    "        'params': {\n",
    "            'n_estimators': [100, 200],\n",
    "            'max_depth': [5, 10]\n",
    "        }\n",
    "    },\n",
    "    'XGBoost': {\n",
    "        'model': XGBRegressor(objective='reg:squarederror', random_state=42),\n",
    "        'params': {\n",
    "            'n_estimators': [100, 200],\n",
    "            'max_depth': [3, 6]\n",
    "        }\n",
    "    },\n",
    "    'LinearRegression': {\n",
    "        'model': LinearRegression(),\n",
    "        'params': {\n",
    "            'fit_intercept': [True, False]\n",
    "        }\n",
    "    }\n",
    "}\n",
    "\n",
    "# Train models with GridSearchCV and live feedback\n",
    "results = []\n",
    "\n",
    "for name, mp in models_params.items():\n",
    "    print(f\"🔹 Training {name}...\")\n",
    "    grid = GridSearchCV(mp['model'], mp['params'], cv=3, scoring='r2', n_jobs=-1, verbose=1)\n",
    "    with parallel_backend('loky'):\n",
    "        grid.fit(X_train, y_train)\n",
    "    best_model = grid.best_estimator_\n",
    "    y_pred = best_model.predict(X_test)\n",
    "    score = r2_score(y_test, y_pred)\n",
    "    print(f\"✅ {name} best params: {grid.best_params_}\")\n",
    "    print(f\"✅ {name} R² score: {score:.4f}\\n\")\n",
    "    \n",
    "    results.append({\n",
    "        'Model': name,\n",
    "        'Best Params': grid.best_params_,\n",
    "        'Test R2': score,\n",
    "        'Trained Model': best_model\n",
    "    })\n",
    "\n",
    "# Ensemble (VotingRegressor) using best RF + XGB + Linear\n",
    "print(\"🔹 Training VotingRegressor (ensemble)...\")\n",
    "voting = VotingRegressor(estimators=[\n",
    "    ('rf', results[0]['Trained Model']),\n",
    "    ('xgb', results[1]['Trained Model']),\n",
    "    ('lr', results[2]['Trained Model'])\n",
    "])\n",
    "voting.fit(X_train, y_train)\n",
    "y_pred_ens = voting.predict(X_test)\n",
    "score_ens = r2_score(y_test, y_pred_ens)\n",
    "print(f\"✅ VotingRegressor R² score: {score_ens:.4f}\\n\")\n",
    "\n",
    "results.append({\n",
    "    'Model': 'VotingEnsemble',\n",
    "    'Best Params': 'N/A',\n",
    "    'Test R2': score_ens,\n",
    "    'Trained Model': voting\n",
    "})\n",
    "\n",
    "# 📈 Summary table\n",
    "summary_df = pd.DataFrame(results).drop(columns=['Trained Model'])\n",
    "summary_df = summary_df.sort_values(by='Test R2', ascending=False).reset_index(drop=True)\n",
    "\n",
    "print(\"📊 Model Comparison Summary:\")\n",
    "print(summary_df)\n"
   ]
  },
  {
   "cell_type": "markdown",
   "metadata": {},
   "source": [
    "**Plots for Analysis**"
   ]
  },
  {
   "cell_type": "code",
   "execution_count": null,
   "metadata": {},
   "outputs": [],
   "source": [
    "# Best hyperparameters for each model\n",
    "print(\"Best Random Forest Parameters:\", rf_grid.best_params_)\n",
    "print(\"Best XGBoost Parameters:\", xgb_grid.best_params_)\n",
    "print(\"Best Linear Regression Parameters:\", lr_grid.best_params_)\n",
    "\n",
    "# Evaluate models on the test set\n",
    "rf_score = rf_grid.score(X_test, y_test)\n",
    "xgb_score = xgb_grid.score(X_test, y_test)\n",
    "lr_score = lr_grid.score(X_test, y_test)\n",
    "\n",
    "print(f\"Random Forest R²: {rf_score:.4f}\")\n",
    "print(f\"XGBoost R²: {xgb_score:.4f}\")\n",
    "print(f\"Linear Regression R²: {lr_score:.4f}\")\n",
    "\n",
    "# Plot model comparison\n",
    "model_names = ['Random Forest', 'XGBoost', 'Linear Regression']\n",
    "model_scores = [rf_score, xgb_score, lr_score]\n",
    "\n",
    "plt.bar(model_names, model_scores)\n",
    "plt.ylabel('R² Score')\n",
    "plt.title('Model Comparison')\n",
    "plt.show()\n"
   ]
  },
  {
   "cell_type": "code",
   "execution_count": null,
   "metadata": {},
   "outputs": [],
   "source": []
  },
  {
   "cell_type": "markdown",
   "metadata": {},
   "source": [
    "Some next steps:\n",
    "- Refine Model\n",
    "- Use \"BAG OF WORDS\" on LIMA comments and codes\n",
    "- Add potential cause of downtime\n",
    "- Email to be sent out to LIMAS\n",
    "- Incorporate more data"
   ]
  }
 ],
 "metadata": {
  "kernelspec": {
   "display_name": "base",
   "language": "python",
   "name": "python3"
  },
  "language_info": {
   "codemirror_mode": {
    "name": "ipython",
    "version": 3
   },
   "file_extension": ".py",
   "mimetype": "text/x-python",
   "name": "python",
   "nbconvert_exporter": "python",
   "pygments_lexer": "ipython3",
   "version": "3.12.5"
  }
 },
 "nbformat": 4,
 "nbformat_minor": 2
}
