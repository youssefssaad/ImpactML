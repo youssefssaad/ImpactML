{
 "cells": [
  {
   "cell_type": "markdown",
   "metadata": {},
   "source": [
    "📦 **Imports and Data Load**\n"
   ]
  },
  {
   "cell_type": "code",
   "execution_count": null,
   "metadata": {},
   "outputs": [],
   "source": [
    "import pandas as pd\n",
    "from itertools import product\n",
    "from sklearn.preprocessing import LabelEncoder\n",
    "\n",
    "# Set display options for pandas\n",
    "pd.set_option(\"display.max_columns\", None)\n",
    "\n",
    "# Load data\n",
    "df = pd.read_csv(\"DTM/DTM.csv\")"
   ]
  },
  {
   "cell_type": "markdown",
   "metadata": {},
   "source": [
    "🧹 **Initial Cleaning**\n"
   ]
  },
  {
   "cell_type": "code",
   "execution_count": null,
   "metadata": {},
   "outputs": [],
   "source": [
    "# Drop columns with too many missing values\n",
    "df = df.dropna(axis=1, thresh=800)\n",
    "\n",
    "# Drop unnecessary columns\n",
    "df = df.drop(columns=['Created', 'Year'])\n",
    "\n",
    "# Drop rows where 'Vendor' column is missing\n",
    "df = df.dropna(subset=['Vendor'])\n",
    "\n",
    "# Standardize 'Shortage Date' column to datetime\n",
    "df['Shortage Date'] = pd.to_datetime(df['Shortage Date'])\n",
    "\n",
    "# Fill missing values\n",
    "df[['Downtime', 'Missed Vehicle']] = df[['Downtime', 'Missed Vehicle']].fillna(0)\n",
    "df[['LiMa Comment', 'Code 1']] = df[['LiMa Comment', 'Code 1']].fillna('No Data')"
   ]
  },
  {
   "cell_type": "markdown",
   "metadata": {},
   "source": [
    "📆 **Add Calendar Features**"
   ]
  },
  {
   "cell_type": "code",
   "execution_count": null,
   "metadata": {},
   "outputs": [],
   "source": [
    "# Extract calendar-based features\n",
    "df['DayOfWeek'] = df['Shortage Date'].dt.dayofweek\n",
    "df['IsWeekend'] = df['DayOfWeek'].isin([5, 6]).astype(int)\n",
    "df['Month'] = df['Shortage Date'].dt.month\n",
    "df['Quarter'] = df['Shortage Date'].dt.quarter"
   ]
  },
  {
   "cell_type": "markdown",
   "metadata": {},
   "source": [
    "📊 **Aggregate Daily Data per Vendor**"
   ]
  },
  {
   "cell_type": "code",
   "execution_count": null,
   "metadata": {},
   "outputs": [],
   "source": [
    "# Aggregate data by Vendor and Shortage Date\n",
    "df = df.groupby(['Vendor', 'Shortage Date']).agg({\n",
    "    'Downtime': 'sum',\n",
    "    'Missed Vehicle': 'sum'\n",
    "}).reset_index()\n",
    "\n",
    "# Fill missing dates for each vendor and shortage date combination\n",
    "all_vendors = df['Vendor'].unique()\n",
    "full_dates = pd.date_range(df['Shortage Date'].min(), df['Shortage Date'].max(), freq='D')\n",
    "full_index = pd.DataFrame(product(all_vendors, full_dates), columns=['Vendor', 'Shortage Date'])\n",
    "\n",
    "df = full_index.merge(df, how='left', on=['Vendor', 'Shortage Date'])\n",
    "\n",
    "# Fill missing downtime and missed vehicle data with 0\n",
    "df[['Downtime', 'Missed Vehicle']] = df[['Downtime', 'Missed Vehicle']].fillna(0)"
   ]
  },
  {
   "cell_type": "markdown",
   "metadata": {},
   "source": [
    "🔁 **Add Lag Features & Rolling Averages**"
   ]
  },
  {
   "cell_type": "code",
   "execution_count": null,
   "metadata": {},
   "outputs": [],
   "source": [
    "# Sort data by Vendor and Shortage Date\n",
    "df = df.sort_values(['Vendor', 'Shortage Date']).reset_index(drop=True)\n",
    "\n",
    "# Define lags you want\n",
    "lags = [1, 2, 3, 7]\n",
    "\n",
    "# For each lag, create lagged features\n",
    "for lag in lags:\n",
    "    df[f'Lag_Downtime_{lag}'] = df.groupby('Vendor')['Downtime'].shift(lag)\n",
    "    df[f'Lag_Misses_{lag}'] = df.groupby('Vendor')['Missed Vehicle'].shift(lag)\n",
    "\n",
    "# Fill NaN values for lag columns\n",
    "lag_cols = [f'Lag_Downtime_{l}' for l in lags] + [f'Lag_Misses_{l}' for l in lags]\n",
    "df[lag_cols] = df[lag_cols].fillna(0)"
   ]
  },
  {
   "cell_type": "markdown",
   "metadata": {},
   "source": [
    "📆 **Re-Add Calendar Features to Daily Data**"
   ]
  },
  {
   "cell_type": "code",
   "execution_count": null,
   "metadata": {},
   "outputs": [],
   "source": [
    "# Re-add calendar-based features\n",
    "df['DayOfWeek'] = df['Shortage Date'].dt.dayofweek\n",
    "df['IsWeekend'] = df['DayOfWeek'].isin([5, 6]).astype(int)\n",
    "df['Month'] = df['Shortage Date'].dt.month\n",
    "df['Quarter'] = df['Shortage Date'].dt.quarter"
   ]
  },
  {
   "cell_type": "markdown",
   "metadata": {},
   "source": [
    "**Frequency + Severity Ratings**"
   ]
  },
  {
   "cell_type": "code",
   "execution_count": null,
   "metadata": {},
   "outputs": [],
   "source": [
    "# Aggregate total incidents and downtime per supplier\n",
    "df = df.groupby('Vendor').agg(\n",
    "    Total_Incidents=('Downtime', lambda x: (x > 0).sum()),  # count of days with downtime > 0\n",
    "    Total_Downtime=('Downtime', 'sum')\n",
    ").reset_index()\n",
    "\n",
    "# Normalize for easy comparison (scale between 0 and 1)\n",
    "df['Freq_Score'] = df['Total_Incidents'] / df['Total_Incidents'].max()\n",
    "df['Severity_Score'] = df['Total_Downtime'] / df['Total_Downtime'].max()\n",
    "\n",
    "# Combined risk score\n",
    "df['Risk_Score'] = 0.5 * df['Freq_Score'] + 0.5 * df['Severity_Score']\n",
    "\n",
    "# Merge back to the original dataframe if needed\n",
    "df = pd.merge(df, df[['Vendor', 'Risk_Score']], on='Vendor', how='left')"
   ]
  },
  {
   "cell_type": "code",
   "execution_count": null,
   "metadata": {},
   "outputs": [],
   "source": [
    "df.info()"
   ]
  },
  {
   "cell_type": "markdown",
   "metadata": {},
   "source": [
    "**Rolling Averages**"
   ]
  },
  {
   "cell_type": "code",
   "execution_count": null,
   "metadata": {},
   "outputs": [],
   "source": [
    "# Convert 'YearMonth' to a numeric YYYYMM format\n",
    "df['YearMonth'] = df['Shortage Date'].dt.year * 100 + df['Shortage Date'].dt.month\n",
    "\n",
    "# Compute monthly average downtime\n",
    "monthly_avg = df.groupby(['Vendor', 'YearMonth']).agg(\n",
    "    Avg_Downtime_Month=('Downtime', 'mean')\n",
    ").reset_index()\n",
    "\n",
    "# Create ISO week-year column for weekly aggregation\n",
    "df['YearWeek'] = df['Shortage Date'].dt.strftime('%Y-W%U')\n",
    "\n",
    "# Sum downtime per vendor per week\n",
    "df = df.groupby(['Vendor', 'YearWeek']).agg(\n",
    "    Weekly_Downtime=('Downtime', 'sum')\n",
    ").reset_index()\n",
    "\n",
    "# Sort by Vendor and YearWeek before applying rolling window\n",
    "df = df.sort_values(['Vendor', 'YearWeek'])\n",
    "\n",
    "# Rolling average of past 12 weeks\n",
    "df['Avg_Downtime_12w'] = df.groupby('Vendor')['Weekly_Downtime'].transform(\n",
    "    lambda x: x.shift(1).rolling(window=12, min_periods=1).mean()\n",
    ")\n",
    "\n",
    "# Merge weekly rolling averages back to the original dataframe\n",
    "df = pd.merge(df, df[['Vendor', 'YearWeek', 'Avg_Downtime_12w']], on=['Vendor', 'YearWeek'], how='left')\n",
    "\n",
    "# Encoding the 'Vendor' column (create new column, do NOT overwrite Vendor)\n",
    "from sklearn.preprocessing import LabelEncoder\n",
    "label_encoder = LabelEncoder()\n",
    "df['Vendor_Encoded'] = label_encoder.fit_transform(df['Vendor'])\n",
    "\n",
    "# Converting 'YearWeek' to a numerical column\n",
    "df['YearWeek_Num'] = df['Shortage Date'].dt.year * 100 + df['Shortage Date'].dt.isocalendar().week\n",
    "\n",
    "# Now drop unnecessary columns and create df\n",
    "df = df.drop(columns=['Vendor', 'Shortage Date', 'YearWeek'])\n",
    "\n",
    "# Fill nulls in rolling avg column\n",
    "df['Avg_Downtime_12w'] = df['Avg_Downtime_12w'].fillna(0)"
   ]
  },
  {
   "cell_type": "code",
   "execution_count": null,
   "metadata": {},
   "outputs": [],
   "source": [
    "df.info()"
   ]
  },
  {
   "cell_type": "markdown",
   "metadata": {},
   "source": [
    "**Model Time Baby...**"
   ]
  },
  {
   "cell_type": "code",
   "execution_count": null,
   "metadata": {},
   "outputs": [],
   "source": [
    "# Data handling\n",
    "import numpy as np\n",
    "\n",
    "# Data splitting and preprocessing\n",
    "from sklearn.model_selection import train_test_split, GridSearchCV\n",
    "from sklearn.preprocessing import StandardScaler\n",
    "\n",
    "# Models\n",
    "from sklearn.ensemble import RandomForestRegressor\n",
    "from sklearn.linear_model import LinearRegression\n",
    "import xgboost as xgb\n",
    "\n",
    "# Metrics\n",
    "from sklearn.metrics import mean_squared_error, roc_auc_score, confusion_matrix, roc_curve\n",
    "\n",
    "# Plotting\n",
    "import matplotlib.pyplot as plt\n",
    "import seaborn as sns\n",
    "\n",
    "from sklearn.compose import ColumnTransformer\n",
    "from sklearn.preprocessing import OneHotEncoder"
   ]
  },
  {
   "cell_type": "markdown",
   "metadata": {},
   "source": [
    "**Initial Data Split**"
   ]
  },
  {
   "cell_type": "code",
   "execution_count": null,
   "metadata": {},
   "outputs": [],
   "source": [
    "# Split data into features and target\n",
    "X = df.drop(columns=['Downtime', 'Missed Vehicle'])  # Assuming Downtime and Missed Vehicle are your target columns\n",
    "y = df[['Downtime', 'Missed Vehicle']]  # You might want to predict both, or choose one\n",
    "\n",
    "# Train-Test split\n",
    "X_train, X_test, y_train, y_test = train_test_split(X, y, test_size=0.2, random_state=42)"
   ]
  },
  {
   "cell_type": "markdown",
   "metadata": {},
   "source": [
    "**Models Training and GridSearchCV**"
   ]
  },
  {
   "cell_type": "code",
   "execution_count": null,
   "metadata": {},
   "outputs": [],
   "source": [
    "# Random Forest Regressor (Tree Ensemble)\n",
    "rf = RandomForestRegressor()\n",
    "\n",
    "rf_params = {\n",
    "    'n_estimators': [50, 100, 200],\n",
    "    'max_depth': [5, 10, 15],\n",
    "    'min_samples_split': [2, 5, 10],\n",
    "    'min_samples_leaf': [1, 2, 4],\n",
    "    'bootstrap': [True, False]\n",
    "}\n",
    "\n",
    "# XGBoost Regressor\n",
    "xgb_model = xgb.XGBRegressor()\n",
    "\n",
    "xgb_params = {\n",
    "    'learning_rate': [0.01, 0.1, 0.2],\n",
    "    'n_estimators': [50, 100, 200],\n",
    "    'max_depth': [3, 6, 9],\n",
    "    'subsample': [0.8, 1.0],\n",
    "    'colsample_bytree': [0.8, 1.0]\n",
    "}\n",
    "\n",
    "# Linear Regression\n",
    "lr = LinearRegression()\n",
    "\n",
    "lr_params = {\n",
    "    'fit_intercept': [True, False],\n",
    "    'normalize': [True, False]\n",
    "}\n",
    "\n",
    "# Define GridSearchCV for each model\n",
    "rf_grid = GridSearchCV(estimator=rf, param_grid=rf_params, cv=5, n_jobs=-1, verbose=2)\n",
    "xgb_grid = GridSearchCV(estimator=xgb_model, param_grid=xgb_params, cv=5, n_jobs=-1, verbose=2)\n",
    "lr_grid = GridSearchCV(estimator=lr, param_grid=lr_params, cv=5, n_jobs=-1, verbose=2)\n",
    "\n",
    "# Train models with GridSearchCV\n",
    "rf_grid.fit(X_train, y_train)\n",
    "xgb_grid.fit(X_train, y_train)\n",
    "lr_grid.fit(X_train, y_train)\n"
   ]
  },
  {
   "cell_type": "markdown",
   "metadata": {},
   "source": [
    "**Plots for Analysis**"
   ]
  },
  {
   "cell_type": "code",
   "execution_count": null,
   "metadata": {},
   "outputs": [],
   "source": [
    "# Best hyperparameters for each model\n",
    "print(\"Best Random Forest Parameters:\", rf_grid.best_params_)\n",
    "print(\"Best XGBoost Parameters:\", xgb_grid.best_params_)\n",
    "print(\"Best Linear Regression Parameters:\", lr_grid.best_params_)\n",
    "\n",
    "# Evaluate models on the test set\n",
    "rf_score = rf_grid.score(X_test, y_test)\n",
    "xgb_score = xgb_grid.score(X_test, y_test)\n",
    "lr_score = lr_grid.score(X_test, y_test)\n",
    "\n",
    "print(f\"Random Forest R²: {rf_score:.4f}\")\n",
    "print(f\"XGBoost R²: {xgb_score:.4f}\")\n",
    "print(f\"Linear Regression R²: {lr_score:.4f}\")\n",
    "\n",
    "# Plot model comparison\n",
    "model_names = ['Random Forest', 'XGBoost', 'Linear Regression']\n",
    "model_scores = [rf_score, xgb_score, lr_score]\n",
    "\n",
    "plt.bar(model_names, model_scores)\n",
    "plt.ylabel('R² Score')\n",
    "plt.title('Model Comparison')\n",
    "plt.show()\n"
   ]
  },
  {
   "cell_type": "markdown",
   "metadata": {},
   "source": [
    "Some next steps:\n",
    "- Use \"BAG OF WORDS\" on LIMA comments and codes"
   ]
  }
 ],
 "metadata": {
  "kernelspec": {
   "display_name": "base",
   "language": "python",
   "name": "python3"
  },
  "language_info": {
   "codemirror_mode": {
    "name": "ipython",
    "version": 3
   },
   "file_extension": ".py",
   "mimetype": "text/x-python",
   "name": "python",
   "nbconvert_exporter": "python",
   "pygments_lexer": "ipython3",
   "version": "3.12.5"
  }
 },
 "nbformat": 4,
 "nbformat_minor": 2
}
